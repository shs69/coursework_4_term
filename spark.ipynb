{
 "cells": [
  {
   "cell_type": "code",
   "execution_count": 26,
   "metadata": {},
   "outputs": [],
   "source": [
    "from pyspark.sql import SparkSession\n",
    "from pyspark.sql.functions import concat, lit, regexp_replace, regexp_extract, col, desc\n",
    "from pyspark.ml import Pipeline\n",
    "from pyspark.ml.stat import Correlation\n",
    "from pyspark.ml.feature import VectorAssembler\n",
    "from pyspark.ml.evaluation import RegressionEvaluator\n",
    "from pyspark.ml.tuning import CrossValidator, ParamGridBuilder\n",
    "import matplotlib.pyplot as plt\n",
    "import seaborn as sns\n",
    "\n",
    "spark = SparkSession.builder.appName(\"Predict Phone Cost\").getOrCreate()\n",
    "spark.conf.set('spark.sql.repl.eagerEval.enabled', True)\n",
    "spark.conf.set('spark.sql.repl.eagerEval.maxColumnWidth', 1000)\n",
    "spark.conf.set(\"spark.sql.repl.eagerEval.truncate\", 1000)"
   ]
  },
  {
   "cell_type": "code",
   "execution_count": 4,
   "metadata": {},
   "outputs": [],
   "source": [
    "dataset_1 = spark.read.format(\"csv\").option(\"sep\", \",\").load(\"datasets/Dataset_1.csv\", header=True)\n",
    "dataset_2 = spark.read.format(\"csv\").option(\"sep\", \",\").load(\"datasets/Dataset_2.csv\", header=True)\n",
    "dataset_3 = spark.read.format(\"csv\").option(\"sep\", \",\").load(\"datasets/Dataset_3.csv\", header=True)\n",
    "dataset_4 = spark.read.format(\"csv\").option(\"sep\", \",\").load(\"datasets/Dataset_4.csv\", header=True)"
   ]
  },
  {
   "cell_type": "markdown",
   "metadata": {},
   "source": [
    "## Подготовка датасетов"
   ]
  },
  {
   "cell_type": "code",
   "execution_count": 5,
   "metadata": {},
   "outputs": [],
   "source": [
    "# Удаляем столбцы, которые не будем использовать\n",
    "dataset_1 = dataset_1\\\n",
    "    .withColumn(\"Phone Name\", concat(dataset_1[\"Brand\"], lit(\" \"), dataset_1[\"Model\"]))\\\n",
    "    .drop(\"Brand\", \"Model\", \"Screen Size\")\n",
    "columns = dataset_1.columns\n",
    "columns.remove(\"Phone Name\")\n",
    "columns.insert(0, \"Phone Name\")\n",
    "dataset_1 = dataset_1.select(columns)\\\n",
    "\n",
    "# Приводим столбцы к нужному нам виду\n",
    "dataset_1 = dataset_1\\\n",
    "    .withColumn(\"Storage\", regexp_replace(dataset_1[\"Storage\"], \" GB\", \"\"))\\\n",
    "    .withColumn(\"RAM\", regexp_replace(dataset_1[\"RAM\"], \" GB\", \"\"))\\\n",
    "    .withColumn(\"Camera\", regexp_extract(dataset_1[\"Camera\"], r\"\\d+\", 0))\\\n",
    "    \n",
    "# Приведём столбцы к нужному типу\n",
    "dataset_1 = dataset_1\\\n",
    "    .withColumn(\"Storage\", dataset_1[\"Storage\"].cast(\"integer\"))\\\n",
    "    .withColumn(\"RAM\", dataset_1[\"RAM\"].cast(\"integer\"))\\\n",
    "    .withColumn(\"Camera\", dataset_1[\"Camera\"].cast(\"integer\"))\\\n",
    "    .withColumn(\"Battery Capacity\", dataset_1[\"Battery Capacity\"].cast(\"integer\"))\\\n",
    "    .withColumn(\"Price\", dataset_1[\"Price\"].cast(\"integer\"))\\\n",
    "    .withColumn(\"Price\", col(\"Price\") * 80)\\\n",
    "    .withColumnRenamed(\"Battery Capacity\", \"Battery\")"
   ]
  },
  {
   "cell_type": "code",
   "execution_count": 6,
   "metadata": {},
   "outputs": [
    {
     "name": "stdout",
     "output_type": "stream",
     "text": [
      "root\n",
      " |-- Phone Name: string (nullable = true)\n",
      " |-- Storage: integer (nullable = true)\n",
      " |-- RAM: integer (nullable = true)\n",
      " |-- Camera: integer (nullable = true)\n",
      " |-- Battery: integer (nullable = true)\n",
      " |-- Price: integer (nullable = true)\n",
      "\n"
     ]
    }
   ],
   "source": [
    "dataset_1.printSchema()"
   ]
  },
  {
   "cell_type": "code",
   "execution_count": 7,
   "metadata": {},
   "outputs": [],
   "source": [
    "# Удаляем лишние столбцы и сокращаем названия\n",
    "dataset_2 = dataset_2\\\n",
    "    .withColumnRenamed(\"Brand me\", \"Phone Name\")\\\n",
    "    .withColumnRenamed(\"ROM\", \"Storage\")\\\n",
    "    .withColumnRenamed(\"Primary_Cam\", \"Camera\")\\\n",
    "    .withColumnRenamed(\"Battery_Power\", \"Battery\")\\\n",
    "    .drop(\"Ratings\", \"Unnamed: 0\", \"Mobile_Size\", \"Selfi_Cam\")\n",
    "\n",
    "# Переопределяем типы у столбцов\n",
    "dataset_2 = dataset_2\\\n",
    "    .withColumn(\"RAM\", dataset_2[\"RAM\"].cast(\"integer\"))\\\n",
    "    .withColumn(\"Storage\", dataset_2[\"Storage\"].cast(\"integer\"))\\\n",
    "    .withColumn(\"Camera\", dataset_2[\"Camera\"].cast(\"integer\"))\\\n",
    "    .withColumn(\"Battery\", dataset_2[\"Battery\"].cast(\"integer\"))\\\n",
    "    .withColumn(\"Price\", dataset_2[\"Price\"].cast(\"integer\"))\n",
    "\n",
    "# Создаём удобный порядок столбцов\n",
    "columns_2 = dataset_2.columns\n",
    "columns_2.remove(\"RAM\")\n",
    "columns_2.remove(\"Storage\")\n",
    "columns_2.insert(1, \"Storage\")\n",
    "columns_2.insert(2, \"RAM\")\n",
    "dataset_2 = dataset_2.select(columns_2)"
   ]
  },
  {
   "cell_type": "code",
   "execution_count": 8,
   "metadata": {},
   "outputs": [
    {
     "name": "stdout",
     "output_type": "stream",
     "text": [
      "root\n",
      " |-- Phone Name: string (nullable = true)\n",
      " |-- Storage: integer (nullable = true)\n",
      " |-- RAM: integer (nullable = true)\n",
      " |-- Camera: integer (nullable = true)\n",
      " |-- Battery: integer (nullable = true)\n",
      " |-- Price: integer (nullable = true)\n",
      "\n"
     ]
    }
   ],
   "source": [
    "dataset_2.printSchema()"
   ]
  },
  {
   "cell_type": "code",
   "execution_count": 9,
   "metadata": {},
   "outputs": [],
   "source": [
    "# Удаляем лишние столбцы\n",
    "dataset_3 = dataset_3\\\n",
    "    .drop(\"Rating ?/5\", \"Number of Ratings\", \"Processor\", \"Date of Scraping\", \"Front Camera\")\\\n",
    "    .withColumnRenamed(\"ROM/Storage\", \"Storage\")\\\n",
    "    .withColumnRenamed(\"Back/Rare Camera\", \"Camera\")\\\n",
    "    .withColumnRenamed(\"Back/Rare Camera\", \"Battery\")\\\n",
    "    .withColumnRenamed(\"Price in INR\", \"Price\")\n",
    "\n",
    "# Удаляем из строк лишние данные\n",
    "dataset_3 = dataset_3\\\n",
    "    .withColumn(\"RAM\", regexp_replace(dataset_3[\"RAM\"], \" GB RAM\", \"\"))\\\n",
    "    .withColumn(\"Storage\", regexp_replace(dataset_3[\"Storage\"], \" GB ROM\", \"\"))\\\n",
    "    .withColumn(\"Battery\", regexp_replace(dataset_3[\"Battery\"], \" mAh\", \"\"))\\\n",
    "    .withColumn(\"Price\", regexp_replace(regexp_replace(dataset_3[\"Price\"], \"₹\", \"\"), \",\", \"\"))\\\n",
    "    .withColumn(\"Camera\", regexp_extract(dataset_3[\"Camera\"], r\"\\d+\", 0))\\\n",
    "\n",
    "# Меняем местами столбцы для нужного нам порядка\n",
    "columns_3 = dataset_3.columns\n",
    "columns_3.remove(\"RAM\")\n",
    "columns_3.remove(\"Storage\")\n",
    "columns_3.insert(1, \"Storage\")\n",
    "columns_3.insert(2, \"RAM\")\n",
    "dataset_3 = dataset_3.select(columns_3)\n",
    "\n",
    "# Переопределяем типы у столбцов\n",
    "dataset_3 = dataset_3\\\n",
    "    .withColumn(\"Storage\", dataset_3[\"Storage\"].cast(\"integer\"))\\\n",
    "    .withColumn(\"RAM\", dataset_3[\"RAM\"].cast(\"integer\"))\\\n",
    "    .withColumn(\"Camera\", dataset_3[\"Camera\"].cast(\"integer\"))\\\n",
    "    .withColumn(\"Battery\", dataset_3[\"Battery\"].cast(\"integer\"))\\\n",
    "    .withColumn(\"Price\", (dataset_3[\"Price\"] * 1.1).cast(\"integer\"))\\\n",
    "    "
   ]
  },
  {
   "cell_type": "code",
   "execution_count": 10,
   "metadata": {},
   "outputs": [
    {
     "name": "stdout",
     "output_type": "stream",
     "text": [
      "root\n",
      " |-- Phone Name: string (nullable = true)\n",
      " |-- Storage: integer (nullable = true)\n",
      " |-- RAM: integer (nullable = true)\n",
      " |-- Camera: integer (nullable = true)\n",
      " |-- Battery: integer (nullable = true)\n",
      " |-- Price: integer (nullable = true)\n",
      "\n"
     ]
    }
   ],
   "source": [
    "dataset_3.printSchema()"
   ]
  },
  {
   "cell_type": "code",
   "execution_count": 11,
   "metadata": {},
   "outputs": [],
   "source": [
    "columns_4 = [\"Name\", \"Internal storage (GB)\", \"RAM (MB)\", \"Rear camera\", \"Battery capacity (mAh)\",\"Price\"]\n",
    "dataset_4 = dataset_4.select(columns_4)\n",
    "dataset_4 = dataset_4.withColumnRenamed(\"Battery capacity (mAh)\", \"Battery\")\\\n",
    "    .withColumnRenamed(\"RAM (MB)\", \"RAM\")\\\n",
    "    .withColumnRenamed(\"Internal Storage (GB)\", \"Storage\")\\\n",
    "    .withColumnRenamed(\"Rear camera\", \"Camera\")\\\n",
    "    .withColumnRenamed(\"Name\", \"Phone Name\")\n",
    "\n",
    "dataset_4 = dataset_4.withColumn(\"RAM\", (dataset_4[\"RAM\"] / 1000).cast(\"integer\"))\\\n",
    "    .withColumn(\"Storage\", dataset_4[\"Storage\"].cast(\"integer\"))\\\n",
    "    .withColumn(\"Camera\", dataset_4[\"Camera\"].cast(\"integer\"))\\\n",
    "    .withColumn(\"Battery\", dataset_4[\"Battery\"].cast(\"integer\"))\\\n",
    "    .withColumn(\"Price\", dataset_4[\"Price\"].cast(\"integer\"))"
   ]
  },
  {
   "cell_type": "code",
   "execution_count": 12,
   "metadata": {},
   "outputs": [
    {
     "name": "stdout",
     "output_type": "stream",
     "text": [
      "root\n",
      " |-- Phone Name: string (nullable = true)\n",
      " |-- Storage: integer (nullable = true)\n",
      " |-- RAM: integer (nullable = true)\n",
      " |-- Camera: integer (nullable = true)\n",
      " |-- Battery: integer (nullable = true)\n",
      " |-- Price: integer (nullable = true)\n",
      "\n"
     ]
    }
   ],
   "source": [
    "dataset_4.printSchema()"
   ]
  },
  {
   "cell_type": "code",
   "execution_count": 13,
   "metadata": {},
   "outputs": [],
   "source": [
    "# Объединим теперь наши датасеты в один\n",
    "dataset_union = dataset_1.union(dataset_2).union(dataset_3).union(dataset_4).dropDuplicates([\"Phone Name\"]).na.drop()"
   ]
  },
  {
   "cell_type": "code",
   "execution_count": 14,
   "metadata": {},
   "outputs": [
    {
     "name": "stdout",
     "output_type": "stream",
     "text": [
      "['Storage', 'RAM', 'Camera', 'Battery', 'Price']\n"
     ]
    },
    {
     "data": {
      "text/html": [
       "<table border='1'>\n",
       "<tr><th>Phone Name</th><th>Storage</th><th>RAM</th><th>Camera</th><th>Battery</th><th>Price</th><th>features</th></tr>\n",
       "<tr><td>Oppo F19 Pro+ 5G</td><td>128</td><td>8</td><td>64</td><td>4310</td><td>31920</td><td>[128.0,8.0,64.0,4310.0,31920.0]</td></tr>\n",
       "<tr><td>Xiaomi Redmi Note 10S</td><td>128</td><td>6</td><td>64</td><td>5000</td><td>18320</td><td>[128.0,6.0,64.0,5000.0,18320.0]</td></tr>\n",
       "<tr><td>Motorola Moto G Stylus (2021)</td><td>128</td><td>4</td><td>48</td><td>4000</td><td>23920</td><td>[128.0,4.0,48.0,4000.0,23920.0]</td></tr>\n",
       "<tr><td>Nokia 6.2</td><td>128</td><td>4</td><td>16</td><td>3500</td><td>19920</td><td>[128.0,4.0,16.0,3500.0,19920.0]</td></tr>\n",
       "<tr><td>Samsung Galaxy S21+ 5G</td><td>256</td><td>8</td><td>12</td><td>4800</td><td>79920</td><td>[256.0,8.0,12.0,4800.0,79920.0]</td></tr>\n",
       "<tr><td>Realme Narzo 50i</td><td>32</td><td>2</td><td>50</td><td>5000</td><td>7920</td><td>[32.0,2.0,50.0,5000.0,7920.0]</td></tr>\n",
       "<tr><td>Samsung Galaxy A52s 5G</td><td>128</td><td>6</td><td>64</td><td>4500</td><td>35920</td><td>[128.0,6.0,64.0,4500.0,35920.0]</td></tr>\n",
       "<tr><td>Oppo A94 5G</td><td>128</td><td>8</td><td>48</td><td>4310</td><td>31920</td><td>[128.0,8.0,48.0,4310.0,31920.0]</td></tr>\n",
       "<tr><td>Oppo Reno 5 Pro 5G</td><td>128</td><td>8</td><td>64</td><td>4350</td><td>35920</td><td>[128.0,8.0,64.0,4350.0,35920.0]</td></tr>\n",
       "<tr><td>Oppo A94</td><td>128</td><td>8</td><td>48</td><td>4310</td><td>30320</td><td>[128.0,8.0,48.0,4310.0,30320.0]</td></tr>\n",
       "<tr><td>Xiaomi Redmi Note 10 Pro Max</td><td>128</td><td>6</td><td>108</td><td>5020</td><td>22320</td><td>[128.0,6.0,108.0,5020.0,22320.0]</td></tr>\n",
       "<tr><td>Xiaomi Mi 10T Pro</td><td>256</td><td>8</td><td>108</td><td>5000</td><td>47920</td><td>[256.0,8.0,108.0,5000.0,47920.0]</td></tr>\n",
       "<tr><td>Samsung Galaxy Z Flip3</td><td>256</td><td>8</td><td>12</td><td>3300</td><td>79920</td><td>[256.0,8.0,12.0,3300.0,79920.0]</td></tr>\n",
       "<tr><td>Apple iPhone 11 Pro Max</td><td>256</td><td>4</td><td>12</td><td>3969</td><td>87920</td><td>[256.0,4.0,12.0,3969.0,87920.0]</td></tr>\n",
       "<tr><td>Google Pixel 4a 5G</td><td>128</td><td>6</td><td>12</td><td>3885</td><td>39920</td><td>[128.0,6.0,12.0,3885.0,39920.0]</td></tr>\n",
       "<tr><td>Vivo Y21s</td><td>128</td><td>4</td><td>50</td><td>5000</td><td>14320</td><td>[128.0,4.0,50.0,5000.0,14320.0]</td></tr>\n",
       "<tr><td>Apple iPhone 13</td><td>128</td><td>4</td><td>12</td><td>2815</td><td>63920</td><td>[128.0,4.0,12.0,2815.0,63920.0]</td></tr>\n",
       "<tr><td>Xiaomi Redmi 10</td><td>128</td><td>4</td><td>50</td><td>5000</td><td>14320</td><td>[128.0,4.0,50.0,5000.0,14320.0]</td></tr>\n",
       "<tr><td>Huawei P30 Pro</td><td>256</td><td>8</td><td>40</td><td>4200</td><td>79920</td><td>[256.0,8.0,40.0,4200.0,79920.0]</td></tr>\n",
       "<tr><td>Realme Narzo 50A</td><td>64</td><td>4</td><td>50</td><td>5000</td><td>11120</td><td>[64.0,4.0,50.0,5000.0,11120.0]</td></tr>\n",
       "</table>\n",
       "only showing top 20 rows\n"
      ],
      "text/plain": [
       "+-----------------------------+-------+---+------+-------+-----+--------------------------------+\n",
       "|                   Phone Name|Storage|RAM|Camera|Battery|Price|                        features|\n",
       "+-----------------------------+-------+---+------+-------+-----+--------------------------------+\n",
       "|             Oppo F19 Pro+ 5G|    128|  8|    64|   4310|31920| [128.0,8.0,64.0,4310.0,31920.0]|\n",
       "|        Xiaomi Redmi Note 10S|    128|  6|    64|   5000|18320| [128.0,6.0,64.0,5000.0,18320.0]|\n",
       "|Motorola Moto G Stylus (2021)|    128|  4|    48|   4000|23920| [128.0,4.0,48.0,4000.0,23920.0]|\n",
       "|                    Nokia 6.2|    128|  4|    16|   3500|19920| [128.0,4.0,16.0,3500.0,19920.0]|\n",
       "|       Samsung Galaxy S21+ 5G|    256|  8|    12|   4800|79920| [256.0,8.0,12.0,4800.0,79920.0]|\n",
       "|             Realme Narzo 50i|     32|  2|    50|   5000| 7920|   [32.0,2.0,50.0,5000.0,7920.0]|\n",
       "|       Samsung Galaxy A52s 5G|    128|  6|    64|   4500|35920| [128.0,6.0,64.0,4500.0,35920.0]|\n",
       "|                  Oppo A94 5G|    128|  8|    48|   4310|31920| [128.0,8.0,48.0,4310.0,31920.0]|\n",
       "|           Oppo Reno 5 Pro 5G|    128|  8|    64|   4350|35920| [128.0,8.0,64.0,4350.0,35920.0]|\n",
       "|                     Oppo A94|    128|  8|    48|   4310|30320| [128.0,8.0,48.0,4310.0,30320.0]|\n",
       "| Xiaomi Redmi Note 10 Pro Max|    128|  6|   108|   5020|22320|[128.0,6.0,108.0,5020.0,22320.0]|\n",
       "|            Xiaomi Mi 10T Pro|    256|  8|   108|   5000|47920|[256.0,8.0,108.0,5000.0,47920.0]|\n",
       "|       Samsung Galaxy Z Flip3|    256|  8|    12|   3300|79920| [256.0,8.0,12.0,3300.0,79920.0]|\n",
       "|      Apple iPhone 11 Pro Max|    256|  4|    12|   3969|87920| [256.0,4.0,12.0,3969.0,87920.0]|\n",
       "|           Google Pixel 4a 5G|    128|  6|    12|   3885|39920| [128.0,6.0,12.0,3885.0,39920.0]|\n",
       "|                    Vivo Y21s|    128|  4|    50|   5000|14320| [128.0,4.0,50.0,5000.0,14320.0]|\n",
       "|              Apple iPhone 13|    128|  4|    12|   2815|63920| [128.0,4.0,12.0,2815.0,63920.0]|\n",
       "|              Xiaomi Redmi 10|    128|  4|    50|   5000|14320| [128.0,4.0,50.0,5000.0,14320.0]|\n",
       "|               Huawei P30 Pro|    256|  8|    40|   4200|79920| [256.0,8.0,40.0,4200.0,79920.0]|\n",
       "|             Realme Narzo 50A|     64|  4|    50|   5000|11120|  [64.0,4.0,50.0,5000.0,11120.0]|\n",
       "+-----------------------------+-------+---+------+-------+-----+--------------------------------+\n",
       "only showing top 20 rows"
      ]
     },
     "execution_count": 14,
     "metadata": {},
     "output_type": "execute_result"
    }
   ],
   "source": [
    "# Создадим вектор фич для матрицы корреляций\n",
    "corr_features = [x for x in dataset_union.columns if x != \"Phone Name\"]\n",
    "print(corr_features)\n",
    "corr_assem = VectorAssembler(inputCols=corr_features, outputCol=\"features\")\n",
    "feature_vector_corr = corr_assem.transform(dataset_union)\n",
    "feature_vector_corr"
   ]
  },
  {
   "cell_type": "code",
   "execution_count": 15,
   "metadata": {},
   "outputs": [
    {
     "data": {
      "image/png": "[encoded data removed]",
      "text/plain": [
       "<Figure size 640x480 with 2 Axes>"
      ]
     },
     "metadata": {},
     "output_type": "display_data"
    }
   ],
   "source": [
    "# Построим матрицу корреляций\n",
    "matrix = Correlation.corr(feature_vector_corr, \"features\").collect()[0][0].toArray()\n",
    "sns.heatmap(matrix, xticklabels=corr_features, yticklabels=corr_features, cmap=\"Greens\", annot=True)\n",
    "plt.show()"
   ]
  },
  {
   "cell_type": "markdown",
   "metadata": {},
   "source": [
    "##### Видим, что взаимосвязь между \"ценой\" и \"камерой\" не такая высокая, но пока что оставим данную фичу для обучения и посмотрим на ошибку модели."
   ]
  },
  {
   "cell_type": "code",
   "execution_count": 16,
   "metadata": {},
   "outputs": [],
   "source": [
    "# Создаим список фич в один векторный столбец\n",
    "features = [\"Storage\", \"RAM\", \"Battery\"]\n",
    "feature = VectorAssembler(inputCols=features, outputCol=\"features\")\n",
    "feature_vector = feature.transform(dataset_union)"
   ]
  },
  {
   "cell_type": "code",
   "execution_count": 37,
   "metadata": {},
   "outputs": [],
   "source": [
    "# Разделим датасет на два: тренировочный и тестовый.\n",
    "train_df, test_df = feature_vector.filter(feature_vector[\"Price\"] < 200000).randomSplit([0.8, 0.2], seed=42)"
   ]
  },
  {
   "cell_type": "code",
   "execution_count": 40,
   "metadata": {},
   "outputs": [
    {
     "data": {
      "text/html": [
       "<table border='1'>\n",
       "<tr><th>Price</th></tr>\n",
       "<tr><td>174990</td></tr>\n",
       "<tr><td>164999</td></tr>\n",
       "<tr><td>159920</td></tr>\n",
       "<tr><td>153000</td></tr>\n",
       "<tr><td>148498</td></tr>\n",
       "<tr><td>148498</td></tr>\n",
       "<tr><td>140300</td></tr>\n",
       "<tr><td>140300</td></tr>\n",
       "<tr><td>137498</td></tr>\n",
       "<tr><td>137498</td></tr>\n",
       "<tr><td>121300</td></tr>\n",
       "<tr><td>117100</td></tr>\n",
       "<tr><td>117100</td></tr>\n",
       "<tr><td>117100</td></tr>\n",
       "<tr><td>115498</td></tr>\n",
       "<tr><td>115498</td></tr>\n",
       "<tr><td>111920</td></tr>\n",
       "<tr><td>106900</td></tr>\n",
       "<tr><td>106600</td></tr>\n",
       "<tr><td>104498</td></tr>\n",
       "</table>\n",
       "only showing top 20 rows\n"
      ],
      "text/plain": [
       "+------+\n",
       "| Price|\n",
       "+------+\n",
       "|174990|\n",
       "|164999|\n",
       "|159920|\n",
       "|153000|\n",
       "|148498|\n",
       "|148498|\n",
       "|140300|\n",
       "|140300|\n",
       "|137498|\n",
       "|137498|\n",
       "|121300|\n",
       "|117100|\n",
       "|117100|\n",
       "|117100|\n",
       "|115498|\n",
       "|115498|\n",
       "|111920|\n",
       "|106900|\n",
       "|106600|\n",
       "|104498|\n",
       "+------+\n",
       "only showing top 20 rows"
      ]
     },
     "execution_count": 40,
     "metadata": {},
     "output_type": "execute_result"
    }
   ],
   "source": [
    "train_df.select(\"Price\").orderBy(col(\"Price\").desc())"
   ]
  },
  {
   "cell_type": "code",
   "execution_count": 41,
   "metadata": {},
   "outputs": [
    {
     "data": {
      "text/html": [
       "<table border='1'>\n",
       "<tr><th>Price</th></tr>\n",
       "<tr><td>112450</td></tr>\n",
       "<tr><td>111920</td></tr>\n",
       "<tr><td>103920</td></tr>\n",
       "<tr><td>103000</td></tr>\n",
       "<tr><td>93498</td></tr>\n",
       "<tr><td>92999</td></tr>\n",
       "<tr><td>87998</td></tr>\n",
       "<tr><td>87998</td></tr>\n",
       "<tr><td>87920</td></tr>\n",
       "<tr><td>87920</td></tr>\n",
       "<tr><td>79920</td></tr>\n",
       "<tr><td>79920</td></tr>\n",
       "<tr><td>79920</td></tr>\n",
       "<tr><td>78100</td></tr>\n",
       "<tr><td>77999</td></tr>\n",
       "<tr><td>77999</td></tr>\n",
       "<tr><td>77299</td></tr>\n",
       "<tr><td>76998</td></tr>\n",
       "<tr><td>75000</td></tr>\n",
       "<tr><td>71920</td></tr>\n",
       "</table>\n",
       "only showing top 20 rows\n"
      ],
      "text/plain": [
       "+------+\n",
       "| Price|\n",
       "+------+\n",
       "|112450|\n",
       "|111920|\n",
       "|103920|\n",
       "|103000|\n",
       "| 93498|\n",
       "| 92999|\n",
       "| 87998|\n",
       "| 87998|\n",
       "| 87920|\n",
       "| 87920|\n",
       "| 79920|\n",
       "| 79920|\n",
       "| 79920|\n",
       "| 78100|\n",
       "| 77999|\n",
       "| 77999|\n",
       "| 77299|\n",
       "| 76998|\n",
       "| 75000|\n",
       "| 71920|\n",
       "+------+\n",
       "only showing top 20 rows"
      ]
     },
     "execution_count": 41,
     "metadata": {},
     "output_type": "execute_result"
    }
   ],
   "source": [
    "test_df.select(\"Price\").orderBy(col(\"Price\").desc())"
   ]
  },
  {
   "cell_type": "code",
   "execution_count": 20,
   "metadata": {},
   "outputs": [],
   "source": [
    "from pyspark.ml.regression import GBTRegressor\n",
    "\n",
    "gbt = GBTRegressor(labelCol=\"Price\", featuresCol=\"features\")\n",
    "model = gbt.fit(train_df)\n",
    "pred = model.transform(test_df)"
   ]
  },
  {
   "cell_type": "code",
   "execution_count": 21,
   "metadata": {},
   "outputs": [],
   "source": [
    "evaluator = RegressionEvaluator(labelCol=\"Price\", predictionCol=\"prediction\", metricName=\"mae\")"
   ]
  },
  {
   "cell_type": "code",
   "execution_count": 22,
   "metadata": {},
   "outputs": [
    {
     "data": {
      "text/plain": [
       "7280.632715347098"
      ]
     },
     "execution_count": 22,
     "metadata": {},
     "output_type": "execute_result"
    }
   ],
   "source": [
    "lr_accuracy = evaluator.evaluate(pred)\n",
    "lr_accuracy"
   ]
  },
  {
   "cell_type": "code",
   "execution_count": 23,
   "metadata": {},
   "outputs": [],
   "source": [
    "# paramGrid = ParamGridBuilder() \\\n",
    "#     .addGrid(gbt.maxIter, [10, 20, 30])\\\n",
    "#     .addGrid(gbt.maxDepth, [3, 4, 5])\\\n",
    "#     .build()\n",
    "\n",
    "# paramGrid"
   ]
  },
  {
   "cell_type": "code",
   "execution_count": 24,
   "metadata": {},
   "outputs": [],
   "source": [
    "# crossval = CrossValidator(estimator=gbt,\n",
    "#                           estimatorParamMaps=paramGrid,\n",
    "#                           evaluator=evaluator,\n",
    "#                           numFolds=3)\n",
    "\n",
    "# cv_model = crossval.fit(train_df)\n",
    "# cv_model.avgMetrics"
   ]
  }
 ],
 "metadata": {
  "kernelspec": {
   "display_name": "venv",
   "language": "python",
   "name": "python3"
  },
  "language_info": {
   "codemirror_mode": {
    "name": "ipython",
    "version": 3
   },
   "file_extension": ".py",
   "mimetype": "text/x-python",
   "name": "python",
   "nbconvert_exporter": "python",
   "pygments_lexer": "ipython3",
   "version": "3.12.2"
  }
 },
 "nbformat": 4,
 "nbformat_minor": 2
}
