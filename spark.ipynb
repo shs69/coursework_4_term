{
 "cells": [
  {
   "cell_type": "code",
   "execution_count": 125,
   "metadata": {},
   "outputs": [],
   "source": [
    "from pyspark.sql import SparkSession\n",
    "from pyspark.sql.functions import concat, lit, regexp_replace, regexp_extract\n",
    "\n",
    "spark = SparkSession.builder.appName(\"Predict Phone Cost\").getOrCreate()\n",
    "spark.conf.set('spark.sql.repl.eagerEval.enabled', True)"
   ]
  },
  {
   "cell_type": "code",
   "execution_count": 126,
   "metadata": {},
   "outputs": [],
   "source": [
    "dataset_1 = spark.read.format(\"csv\").option(\"sep\", \",\").load(\"datasets/Dataset_1.csv\", header=True)\n",
    "dataset_2 = spark.read.format(\"csv\").option(\"sep\", \",\").load(\"datasets/Dataset_2.csv\", header=True)\n",
    "dataset_3 = spark.read.format(\"csv\").option(\"sep\", \",\").load(\"datasets/Dataset_3.csv\", header=True)\n",
    "dataset_4 = spark.read.format(\"csv\").option(\"sep\", \",\").load(\"datasets/Dataset_4.csv\", header=True)"
   ]
  },
  {
   "cell_type": "markdown",
   "metadata": {},
   "source": [
    "## Подготовка датасетов"
   ]
  },
  {
   "cell_type": "code",
   "execution_count": 127,
   "metadata": {},
   "outputs": [],
   "source": [
    "# Удаляем столбцы, которые не будем использовать\n",
    "dataset_1 = dataset_1\\\n",
    "    .withColumn(\"Phone Name\", concat(dataset_1[\"Brand\"], lit(\" \"), dataset_1[\"Model\"]))\\\n",
    "    .drop(\"Brand\")\\\n",
    "    .drop(\"Model\")\\\n",
    "    .drop(\"Screen Size (inches)\")\n",
    "columns = dataset_1.columns\n",
    "columns.remove(\"Phone Name\")\n",
    "columns.insert(0, \"Phone Name\")\n",
    "dataset_1 = dataset_1.select(columns)"
   ]
  },
  {
   "cell_type": "code",
   "execution_count": 129,
   "metadata": {},
   "outputs": [
    {
     "name": "stdout",
     "output_type": "stream",
     "text": [
      "root\n",
      " |-- Phone Name: string (nullable = true)\n",
      " |-- Storage: integer (nullable = true)\n",
      " |-- RAM: integer (nullable = true)\n",
      " |-- Screen Size: string (nullable = true)\n",
      " |-- Camera: integer (nullable = true)\n",
      " |-- Battery Capacity: integer (nullable = true)\n",
      " |-- Price: integer (nullable = true)\n",
      "\n"
     ]
    }
   ],
   "source": [
    "# Приводим столбцы к нужному нам виду\n",
    "dataset_1 = dataset_1\\\n",
    "    .withColumn(\"Storage\", regexp_replace(dataset_1[\"Storage\"], \" GB\", \"\"))\\\n",
    "    .withColumn(\"RAM\", regexp_replace(dataset_1[\"RAM\"], \" GB\", \"\"))\\\n",
    "    .withColumn(\"Camera\", regexp_extract(dataset_1[\"Camera\"], r\"\\d+\", 0))\n",
    "# Приведём столбцы к нужному типу\n",
    "dataset_1 = dataset_1\\\n",
    "    .withColumn(\"Storage\", dataset_1[\"Storage\"].cast(\"integer\"))\\\n",
    "    .withColumn(\"RAM\", dataset_1[\"RAM\"].cast(\"integer\"))\\\n",
    "    .withColumn(\"Camera\", dataset_1[\"Camera\"].cast(\"integer\"))\\\n",
    "    .withColumn(\"Battery Capacity\", dataset_1[\"Battery Capacity\"].cast(\"integer\"))\\\n",
    "    .withColumn(\"Price\", dataset_1[\"Price\"].cast(\"integer\"))\n",
    "\n",
    "dataset_1.printSchema()"
   ]
  },
  {
   "cell_type": "code",
   "execution_count": 128,
   "metadata": {},
   "outputs": [
    {
     "data": {
      "text/html": [
       "<table border='1'>\n",
       "<tr><th>Phone Name</th><th>Ratings</th><th>RAM</th><th>ROM</th><th>Mobile_Size</th><th>Primary_Cam</th><th>Selfi_Cam</th><th>Battery_Power</th><th>Price</th></tr>\n",
       "<tr><td>LG V30+ (Black, 1...</td><td>4.3</td><td>4.0</td><td>128.0</td><td>6.0</td><td>48</td><td>13.0</td><td>4000</td><td>24999</td></tr>\n",
       "<tr><td>I Kall K11</td><td>3.4</td><td>6.0</td><td>64.0</td><td>4.5</td><td>48</td><td>12.0</td><td>4000</td><td>15999</td></tr>\n",
       "<tr><td>Nokia 105 ss</td><td>4.3</td><td>4.0</td><td>4.0</td><td>4.5</td><td>64</td><td>16.0</td><td>4000</td><td>15000</td></tr>\n",
       "<tr><td>Samsung Galaxy A5...</td><td>4.4</td><td>6.0</td><td>64.0</td><td>6.4</td><td>48</td><td>15.0</td><td>3800</td><td>18999</td></tr>\n",
       "<tr><td>POCO F1 (Steel Bl...</td><td>4.5</td><td>6.0</td><td>128.0</td><td>6.18</td><td>35</td><td>15.0</td><td>3800</td><td>18999</td></tr>\n",
       "<tr><td>Apple iPhone 11 P...</td><td>4.7</td><td>8.0</td><td>128.0</td><td>5.8</td><td>35</td><td>12.0</td><td>5000</td><td>140300</td></tr>\n",
       "<tr><td>Samsung Galaxy A7...</td><td>4.4</td><td>8.0</td><td>128.0</td><td>6.7</td><td>64</td><td>5.0</td><td>4700</td><td>29999</td></tr>\n",
       "<tr><td>Samsung Galaxy S1...</td><td>4.5</td><td>8.0</td><td>128.0</td><td>6.7</td><td>48</td><td>12.0</td><td>4700</td><td>47999</td></tr>\n",
       "<tr><td>OPPO A9 (Marble G...</td><td>4.4</td><td>4.0</td><td>128.0</td><td>6.53</td><td>48</td><td>2.0</td><td>4020</td><td>16490</td></tr>\n",
       "<tr><td>POCO F1 (Graphite...</td><td>4.5</td><td>8.0</td><td>256.0</td><td>6.18</td><td>35</td><td>5.0</td><td>3800</td><td>22999</td></tr>\n",
       "<tr><td>Megus Ultra</td><td>3.9</td><td>6.0</td><td>32.0</td><td>4.54</td><td>64</td><td>8.0</td><td>4100</td><td>1099</td></tr>\n",
       "<tr><td>Jmax M40 Coo of Two</td><td>3.8</td><td>6.0</td><td>32.0</td><td>4.5</td><td>64</td><td>8.0</td><td>1050</td><td>1299</td></tr>\n",
       "<tr><td>Wizphone WP (Blac...</td><td>NULL</td><td>2.0</td><td>16.0</td><td>5.5</td><td>8</td><td>NULL</td><td>4200</td><td>5498</td></tr>\n",
       "<tr><td>Easyfone Star</td><td>3.8</td><td>6.0</td><td>32.0</td><td>4.7</td><td>64</td><td>8.0</td><td>3000</td><td>3999</td></tr>\n",
       "<tr><td>OnePlus 7 Pro (Ne...</td><td>4.5</td><td>8.0</td><td>256.0</td><td>6.67</td><td>48</td><td>8.0</td><td>3800</td><td>43999</td></tr>\n",
       "<tr><td>OnePlus 7 Pro (Mi...</td><td>4.6</td><td>6.0</td><td>128.0</td><td>6.67</td><td>48</td><td>8.0</td><td>3800</td><td>42990</td></tr>\n",
       "<tr><td>Kechaoda A27</td><td>4.1</td><td>6.0</td><td>32.0</td><td>3.7</td><td>64</td><td>NULL</td><td>4700</td><td>990</td></tr>\n",
       "<tr><td>Samsung Galaxy S2...</td><td>4.5</td><td>8.0</td><td>128.0</td><td>6.7</td><td>64</td><td>1.0</td><td>4700</td><td>77999</td></tr>\n",
       "<tr><td>Samsung Galaxy S1...</td><td>4.5</td><td>8.0</td><td>128.0</td><td>6.7</td><td>48</td><td>12.0</td><td>4700</td><td>47999</td></tr>\n",
       "<tr><td>OPPO A5s (Red, 32 )</td><td>4.3</td><td>2.0</td><td>32.0</td><td>6.2</td><td>38</td><td>2.0</td><td>4230</td><td>12990</td></tr>\n",
       "</table>\n",
       "only showing top 20 rows\n"
      ],
      "text/plain": [
       "+--------------------+-------+---+-----+-----------+-----------+---------+-------------+------+\n",
       "|          Phone Name|Ratings|RAM|  ROM|Mobile_Size|Primary_Cam|Selfi_Cam|Battery_Power| Price|\n",
       "+--------------------+-------+---+-----+-----------+-----------+---------+-------------+------+\n",
       "|LG V30+ (Black, 1...|    4.3|4.0|128.0|        6.0|         48|     13.0|         4000| 24999|\n",
       "|          I Kall K11|    3.4|6.0| 64.0|        4.5|         48|     12.0|         4000| 15999|\n",
       "|        Nokia 105 ss|    4.3|4.0|  4.0|        4.5|         64|     16.0|         4000| 15000|\n",
       "|Samsung Galaxy A5...|    4.4|6.0| 64.0|        6.4|         48|     15.0|         3800| 18999|\n",
       "|POCO F1 (Steel Bl...|    4.5|6.0|128.0|       6.18|         35|     15.0|         3800| 18999|\n",
       "|Apple iPhone 11 P...|    4.7|8.0|128.0|        5.8|         35|     12.0|         5000|140300|\n",
       "|Samsung Galaxy A7...|    4.4|8.0|128.0|        6.7|         64|      5.0|         4700| 29999|\n",
       "|Samsung Galaxy S1...|    4.5|8.0|128.0|        6.7|         48|     12.0|         4700| 47999|\n",
       "|OPPO A9 (Marble G...|    4.4|4.0|128.0|       6.53|         48|      2.0|         4020| 16490|\n",
       "|POCO F1 (Graphite...|    4.5|8.0|256.0|       6.18|         35|      5.0|         3800| 22999|\n",
       "|         Megus Ultra|    3.9|6.0| 32.0|       4.54|         64|      8.0|         4100|  1099|\n",
       "| Jmax M40 Coo of Two|    3.8|6.0| 32.0|        4.5|         64|      8.0|         1050|  1299|\n",
       "|Wizphone WP (Blac...|   NULL|2.0| 16.0|        5.5|          8|     NULL|         4200|  5498|\n",
       "|       Easyfone Star|    3.8|6.0| 32.0|        4.7|         64|      8.0|         3000|  3999|\n",
       "|OnePlus 7 Pro (Ne...|    4.5|8.0|256.0|       6.67|         48|      8.0|         3800| 43999|\n",
       "|OnePlus 7 Pro (Mi...|    4.6|6.0|128.0|       6.67|         48|      8.0|         3800| 42990|\n",
       "|        Kechaoda A27|    4.1|6.0| 32.0|        3.7|         64|     NULL|         4700|   990|\n",
       "|Samsung Galaxy S2...|    4.5|8.0|128.0|        6.7|         64|      1.0|         4700| 77999|\n",
       "|Samsung Galaxy S1...|    4.5|8.0|128.0|        6.7|         48|     12.0|         4700| 47999|\n",
       "| OPPO A5s (Red, 32 )|    4.3|2.0| 32.0|        6.2|         38|      2.0|         4230| 12990|\n",
       "+--------------------+-------+---+-----+-----------+-----------+---------+-------------+------+\n",
       "only showing top 20 rows"
      ]
     },
     "execution_count": 128,
     "metadata": {},
     "output_type": "execute_result"
    }
   ],
   "source": [
    "dataset_2 = dataset_2\\\n",
    "    .drop(\"Unnamed: 0\")\\\n",
    "    .withColumnRenamed(\"Brand me\", \"Phone Name\")\n",
    "dataset_2"
   ]
  }
 ],
 "metadata": {
  "kernelspec": {
   "display_name": "venv",
   "language": "python",
   "name": "python3"
  },
  "language_info": {
   "codemirror_mode": {
    "name": "ipython",
    "version": 3
   },
   "file_extension": ".py",
   "mimetype": "text/x-python",
   "name": "python",
   "nbconvert_exporter": "python",
   "pygments_lexer": "ipython3",
   "version": "3.12.2"
  }
 },
 "nbformat": 4,
 "nbformat_minor": 2
}
